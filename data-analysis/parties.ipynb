{
 "cells": [
  {
   "cell_type": "code",
   "execution_count": 1,
   "metadata": {},
   "outputs": [],
   "source": [
    "import pandas as pd"
   ]
  },
  {
   "cell_type": "code",
   "execution_count": 2,
   "metadata": {},
   "outputs": [],
   "source": [
    "df1 = pd.read_excel(\"dataset\\ESSHA CM 04th Dec.xlsx\")\n",
    "df2 = pd.read_csv(\"dataset\\DHPO101.csv\")"
   ]
  },
  {
   "cell_type": "code",
   "execution_count": 3,
   "metadata": {},
   "outputs": [
    {
     "data": {
      "text/plain": [
       "((760, 13), (2065, 41))"
      ]
     },
     "execution_count": 3,
     "metadata": {},
     "output_type": "execute_result"
    }
   ],
   "source": [
    "df1.shape,df2.shape"
   ]
  },
  {
   "cell_type": "code",
   "execution_count": 4,
   "metadata": {},
   "outputs": [],
   "source": [
    "df1 = df1.dropna(subset=['Route Code'])"
   ]
  },
  {
   "cell_type": "code",
   "execution_count": 14,
   "metadata": {},
   "outputs": [
    {
     "data": {
      "text/plain": [
       "(688,)"
      ]
     },
     "execution_count": 14,
     "metadata": {},
     "output_type": "execute_result"
    }
   ],
   "source": [
    "df1 = df1.drop_duplicates(subset=[\"Customer Name\"],keep=\"first\")\n",
    "df1[\"Customer Name\"].unique().shape"
   ]
  },
  {
   "cell_type": "code",
   "execution_count": 5,
   "metadata": {},
   "outputs": [
    {
     "data": {
      "text/plain": [
       "DIST CD            0\n",
       "DIST NAME          0\n",
       "Customer UID       0\n",
       "customer code      0\n",
       "Route Code         0\n",
       "Customer Name      0\n",
       "Address1           0\n",
       "Address2           0\n",
       "Pin Code           0\n",
       "Tin No.          706\n",
       "Group 2           25\n",
       "LATITUDE          10\n",
       "LONGITUDE         10\n",
       "dtype: int64"
      ]
     },
     "execution_count": 5,
     "metadata": {},
     "output_type": "execute_result"
    }
   ],
   "source": [
    "df1.isna().sum()"
   ]
  },
  {
   "cell_type": "code",
   "execution_count": 6,
   "metadata": {},
   "outputs": [],
   "source": [
    "df1[['LATITUDE', 'LONGITUDE']] = df1[['LATITUDE', 'LONGITUDE']].fillna('')"
   ]
  },
  {
   "cell_type": "code",
   "execution_count": 7,
   "metadata": {},
   "outputs": [
    {
     "data": {
      "text/plain": [
       "DIST CD            0\n",
       "DIST NAME          0\n",
       "Customer UID       0\n",
       "customer code      0\n",
       "Route Code         0\n",
       "Customer Name      0\n",
       "Address1           0\n",
       "Address2           0\n",
       "Pin Code           0\n",
       "Tin No.          706\n",
       "Group 2           25\n",
       "LATITUDE           0\n",
       "LONGITUDE          0\n",
       "dtype: int64"
      ]
     },
     "execution_count": 7,
     "metadata": {},
     "output_type": "execute_result"
    }
   ],
   "source": [
    "df1.isna().sum()"
   ]
  },
  {
   "cell_type": "code",
   "execution_count": 15,
   "metadata": {},
   "outputs": [
    {
     "name": "stdout",
     "output_type": "stream",
     "text": [
      "688\n"
     ]
    }
   ],
   "source": [
    "import pandas as pd\n",
    "\n",
    "\n",
    "# Perform an equi-join on 'customer code' and 'CUST_CD1'\n",
    "merged_df = pd.merge(df1, df2, left_on='customer code', right_on='CUST_CD1', how='inner')\n",
    "\n",
    "merged_df.sort_values(\"Customer Name\", inplace=True)\n",
    "merged_df.reset_index(drop=True, inplace=True)\n",
    "\n",
    "# Initialize an empty list to store the JSON documents\n",
    "json_output = []\n",
    "\n",
    "# Iterate over the merged DataFrame to create JSON documents\n",
    "for index, row in merged_df.iterrows():\n",
    "    json_doc = {\n",
    "        \"party_id\": f\"PA{index:04d}\",\n",
    "        \"partyName\": row['Customer Name'],\n",
    "        \"route\": row['Route Code'],\n",
    "        \"phoneNumber\": row['MOBILE_NO'],\n",
    "        \"gst\": row['Tin No.'] if pd.notnull(row['Tin No.']) else '',\n",
    "        \"available\": 1,\n",
    "        \"address\": f\"{row['Address1'].strip()} {row['Address2'].strip()} {int(row['Pin Code'])}\",\n",
    "        \"coordinate\": f\"{row['LATITUDE_y']} {row['LONGITUDE_y']}\"\n",
    "    }\n",
    "    json_output.append(json_doc)\n",
    "\n",
    "# Print or return the array of JSON documents\n",
    "print(len(json_output))\n"
   ]
  },
  {
   "cell_type": "code",
   "execution_count": 17,
   "metadata": {},
   "outputs": [
    {
     "data": {
      "text/plain": [
       "{'party_id': 'PA0000',\n",
       " 'partyName': '(Friends Canteen) SANKARA POLYTECHNIC COLLEGE',\n",
       " 'route': 'PSR2',\n",
       " 'phoneNumber': '8220019531',\n",
       " 'gst': '',\n",
       " 'available': 1,\n",
       " 'address': 'TUDIYALUR ROAD  SARAVANAMPATTY COIMBA Coimbatore COIMBATORE 641035',\n",
       " 'coordinate': '11.087106 76.986763'}"
      ]
     },
     "execution_count": 17,
     "metadata": {},
     "output_type": "execute_result"
    }
   ],
   "source": [
    "json_output[0]"
   ]
  },
  {
   "cell_type": "code",
   "execution_count": 35,
   "metadata": {},
   "outputs": [],
   "source": [
    "\n",
    "import json\n",
    "\n",
    "with open(\"parties.json\",'w') as jsonfile:\n",
    "  json.dump(json_output,jsonfile,indent=4)"
   ]
  },
  {
   "cell_type": "code",
   "execution_count": null,
   "metadata": {},
   "outputs": [],
   "source": []
  }
 ],
 "metadata": {
  "kernelspec": {
   "display_name": "Python 3",
   "language": "python",
   "name": "python3"
  },
  "language_info": {
   "codemirror_mode": {
    "name": "ipython",
    "version": 3
   },
   "file_extension": ".py",
   "mimetype": "text/x-python",
   "name": "python",
   "nbconvert_exporter": "python",
   "pygments_lexer": "ipython3",
   "version": "3.11.7"
  }
 },
 "nbformat": 4,
 "nbformat_minor": 2
}
